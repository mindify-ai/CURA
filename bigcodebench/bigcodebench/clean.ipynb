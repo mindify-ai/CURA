{
 "cells": [
  {
   "cell_type": "code",
   "execution_count": 5,
   "metadata": {},
   "outputs": [
    {
     "name": "stdout",
     "output_type": "stream",
     "text": [
      "Python code extracted and saved to output.jsonl\n"
     ]
    }
   ],
   "source": [
    "import json\n",
    "import re\n",
    "\n",
    "def extract_python_code(jsonl_data):\n",
    "    \"\"\"\n",
    "    Extract the Python code from the `solution` field in the JSONL input.\n",
    "\n",
    "    Args:\n",
    "        jsonl_data (str): A JSONL-formatted string.\n",
    "\n",
    "    Returns:\n",
    "        list: A list of Python code snippets extracted from the JSONL input.\n",
    "    \"\"\"\n",
    "    python_code_snippets = []\n",
    "\n",
    "    for line in jsonl_data.strip().splitlines():\n",
    "        try:\n",
    "            data = json.loads(line)\n",
    "            if 'solution' in data:\n",
    "                # Extract Python code from the triple-backtick block\n",
    "                match = re.search(r\"```python\\n(.*?)\\n```\", data['solution'], re.DOTALL)\n",
    "                if match:\n",
    "                    python_code_snippets.append(match.group(1).strip())\n",
    "        except json.JSONDecodeError as e:\n",
    "            print(f\"Skipping invalid JSONL line: {e}\")\n",
    "\n",
    "    return python_code_snippets\n",
    "\n",
    "# Example JSONL input\n",
    "with open(\"samples.jsonl\") as f:\n",
    "    jsonl_data = f.read()\n",
    "    \n",
    "# Extract Python code from the JSONL input\n",
    "python_code = extract_python_code(jsonl_data)\n",
    "\n",
    "# Output the extracted Python code in output.jsonl\n",
    "with open(\"output.jsonl\", \"w\") as f:\n",
    "    for code in python_code:\n",
    "        f.write(json.dumps({\"code\": code}) + \"\\n\")\n",
    "        \n",
    "print(\"Python code extracted and saved to output.jsonl\")\n"
   ]
  },
  {
   "cell_type": "code",
   "execution_count": 6,
   "metadata": {},
   "outputs": [
    {
     "name": "stdout",
     "output_type": "stream",
     "text": [
      "Python code extracted and saved to final_output.jsonl\n"
     ]
    }
   ],
   "source": [
    "import json\n",
    "import re\n",
    "\n",
    "# Read the JSONL file\n",
    "with open(\"samples.jsonl\") as f:\n",
    "    jsonl_data = f.read()\n",
    "\n",
    "# Create a list to store updated JSON objects\n",
    "updated_lines = []\n",
    "\n",
    "for line in jsonl_data.strip().splitlines():\n",
    "    try:\n",
    "        data = json.loads(line)\n",
    "        if 'solution' in data:\n",
    "            match = re.search(r\"```python\\n(.*?)\\n```\", data['solution'], re.DOTALL)\n",
    "            if match:\n",
    "                data['solution'] = match.group(1).strip()\n",
    "        updated_lines.append(json.dumps(data))\n",
    "    except json.JSONDecodeError as e:\n",
    "        print(f\"Skipping invalid JSONL line: {e}\")\n",
    "\n",
    "# Write the updated JSONL content to a new file\n",
    "with open(\"final_output.jsonl\", \"w\") as f:\n",
    "    for updated_line in updated_lines:\n",
    "        f.write(updated_line + \"\\n\")\n",
    "\n",
    "print(\"Python code extracted and saved to final_output.jsonl\")"
   ]
  }
 ],
 "metadata": {
  "kernelspec": {
   "display_name": ".venv",
   "language": "python",
   "name": "python3"
  },
  "language_info": {
   "codemirror_mode": {
    "name": "ipython",
    "version": 3
   },
   "file_extension": ".py",
   "mimetype": "text/x-python",
   "name": "python",
   "nbconvert_exporter": "python",
   "pygments_lexer": "ipython3",
   "version": "3.10.12"
  }
 },
 "nbformat": 4,
 "nbformat_minor": 2
}
